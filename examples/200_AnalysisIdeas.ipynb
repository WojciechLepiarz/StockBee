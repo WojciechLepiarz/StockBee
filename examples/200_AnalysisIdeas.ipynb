{
 "cells": [
  {
   "cell_type": "markdown",
   "metadata": {},
   "source": [
    "# Some ideas for future development\n",
    "\n",
    "1. Metrics ideas:\n",
    "    - Correlation with returns to find similar stock profiles (and finish MA based correlation).\n",
    "    - Correlation of day to day change.\n",
    "    - Event analysis for major moves ( >5% per day ).\n",
    "    - Event analysis for results publication.\n",
    "    - Event analysis of news (good thing is no negative response to negative news) - split the news into categories based on PAP?\n",
    "    - Volatility of some sort.\n",
    "    - Wave/movement size analysis between local max and min (minor / major).\n",
    "2. Fundamental analysis: \n",
    "    - Add basic financial data for stocks that are interesting and store them in some kind of database.\n",
    "    - Calculate automatically interesting metrics from cashflow, balance sheet and profit report.\n",
    "3. Machine learning:\n",
    "    - Use clustering methods with metrics from 1. and 2. if available to find similar stocks / create GPW map.\n",
    "    - Use ensamble methods based on metrics to try to create some prediction tool?\n",
    "    - Use Reinforced Learning to create trading algos (especially interesting for Forex, Oil, US500). (Keras + CNTK?)\n",
    "4. Hot get-rich idea 1:\n",
    "    - Do daily / weekly percentage change charts + daily / weekly range charts for stocks that went nuts and try to find patters\n",
    "        - Count days up vs days down ratio\n",
    "        - Count average change ratio (above or below 0%)\n",
    "        - Average daily range based on my calc (high-low)/close\n",
    "        - Threshold for calm vs volatile periods\n",
    "        - Average time distance between high daily changes for given threshold (positive, negative and both)\n",
    "    - Identify 10 possible stocks that are starting to rise -> invest 1k in each if odds are good based on your analysis\n",
    "    - Do basic metrics, like what is the average increase rate, when it should go up, when it will not go up etc."
   ]
  },
  {
   "cell_type": "code",
   "execution_count": null,
   "metadata": {},
   "outputs": [],
   "source": []
  }
 ],
 "metadata": {
  "kernelspec": {
   "display_name": "Python 3",
   "language": "python",
   "name": "python3"
  },
  "language_info": {
   "codemirror_mode": {
    "name": "ipython",
    "version": 3
   },
   "file_extension": ".py",
   "mimetype": "text/x-python",
   "name": "python",
   "nbconvert_exporter": "python",
   "pygments_lexer": "ipython3",
   "version": "3.8.1"
  }
 },
 "nbformat": 4,
 "nbformat_minor": 4
}
