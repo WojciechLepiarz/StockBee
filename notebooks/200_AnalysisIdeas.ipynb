{
 "cells": [
  {
   "cell_type": "markdown",
   "metadata": {},
   "source": [
    "# Some ideas for future development\n",
    "\n",
    "1. Metrics ideas:\n",
    "    - Correlation with returns to fins similar stock profiles (and finish MA based correlation).\n",
    "    - Correlation of day to day change.\n",
    "    - Event analysis for major moves ( >5% per day ).\n",
    "    - Event analysis for results publication.\n",
    "    - Volatility of some sort.\n",
    "    - Wave/movement size analysis between local max and min (minor / major).\n",
    "2. Fundamental analysis: \n",
    "    - Add basic financial data for stocks that are interesting and store them in some kind of database.\n",
    "    - Calculate automatically interesting metrics from cashflow, balance sheet and profit report.\n",
    "3. Machine learning:\n",
    "    - Use clustering methods with metrics from 1. and 2. if available to find similar stocks / create GPW map.\n",
    "    - Use ensamble methods based on metrics to try to create some prediction tool?\n",
    "    - Use Reinforced Learning to create trading algos (especially interesting for Forex, Oil, US500). (Keras + CNTK?)"
   ]
  },
  {
   "cell_type": "code",
   "execution_count": null,
   "metadata": {},
   "outputs": [],
   "source": []
  }
 ],
 "metadata": {
  "kernelspec": {
   "display_name": "Python 3",
   "language": "python",
   "name": "python3"
  },
  "language_info": {
   "codemirror_mode": {
    "name": "ipython",
    "version": 3
   },
   "file_extension": ".py",
   "mimetype": "text/x-python",
   "name": "python",
   "nbconvert_exporter": "python",
   "pygments_lexer": "ipython3",
   "version": "3.8.1"
  }
 },
 "nbformat": 4,
 "nbformat_minor": 4
}
