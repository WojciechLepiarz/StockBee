{
 "cells": [
  {
   "cell_type": "markdown",
   "metadata": {},
   "source": [
    "# Notebook used to download and extract Warsaw Stock Exchange data from BossaFX"
   ]
  },
  {
   "cell_type": "code",
   "execution_count": 1,
   "metadata": {},
   "outputs": [
    {
     "name": "stdout",
     "output_type": "stream",
     "text": [
      "I downloaded and extracted: https://info.bossa.pl/pub/ciagle/mstock/mstcgl.zip\n",
      "I downloaded and extracted: https://info.bossa.pl/pub/newconnect/mstock/mstncn.zip\n"
     ]
    }
   ],
   "source": [
    "# imports\n",
    "import pathlib\n",
    "import requests\n",
    "import zipfile\n",
    "\n",
    "# parameters\n",
    "full_link = r'https://info.bossa.pl/pub/ciagle/mstock/mstcgl.zip'\n",
    "full_link_nc = r'https://info.bossa.pl/pub/newconnect/mstock/mstncn.zip'\n",
    "\n",
    "# code\n",
    "def download_and_extract(link):\n",
    "    myfile = requests.get(link)\n",
    "    if not pathlib.Path('..\\\\data\\\\').exists():\n",
    "        pathlib.Path('..\\\\data\\\\').mkdir()\n",
    "    with open('..\\\\data\\\\full_data_tmp.zip', 'wb') as ff:\n",
    "        ff.write(myfile.content)\n",
    "    my_dir = pathlib.Path('..\\data')\n",
    "    with zipfile.ZipFile(\"..\\\\data\\\\full_data_tmp.zip\", \"r\") as zip_ref:\n",
    "        zip_ref.extractall(my_dir)\n",
    "    print(\"I downloaded and extracted: \" + link)\n",
    "    \n",
    "download_and_extract(full_link)\n",
    "download_and_extract(full_link_nc)"
   ]
  },
  {
   "cell_type": "code",
   "execution_count": null,
   "metadata": {},
   "outputs": [],
   "source": []
  },
  {
   "cell_type": "code",
   "execution_count": null,
   "metadata": {},
   "outputs": [],
   "source": []
  }
 ],
 "metadata": {
  "kernelspec": {
   "display_name": "Python 3",
   "language": "python",
   "name": "python3"
  },
  "language_info": {
   "codemirror_mode": {
    "name": "ipython",
    "version": 3
   },
   "file_extension": ".py",
   "mimetype": "text/x-python",
   "name": "python",
   "nbconvert_exporter": "python",
   "pygments_lexer": "ipython3",
   "version": "3.8.1"
  }
 },
 "nbformat": 4,
 "nbformat_minor": 4
}
