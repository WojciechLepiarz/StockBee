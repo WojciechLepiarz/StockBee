{
 "cells": [
  {
   "cell_type": "markdown",
   "metadata": {},
   "source": [
    "# Analysis of how stocks changed price in the past (in a given year, half of the year or a quarter)\n",
    "## I want to know ho big are price movements in given timeframes observed in the past"
   ]
  },
  {
   "cell_type": "code",
   "execution_count": 1,
   "metadata": {},
   "outputs": [],
   "source": [
    "import glob\n",
    "import pandas as pd\n",
    "import numpy as np\n",
    "from ipynb.fs.full.library_gpw import gpw\n",
    "from ipynb.fs.full.library_nc import nc"
   ]
  },
  {
   "cell_type": "markdown",
   "metadata": {},
   "source": [
    "### Program outline:\n",
    "1. Load data into big dataframe, which will include ohlc prices and sum of volume traded for each symbol.\n",
    "    - Go one by one through each symbol and reduce the data from daily dataframe to quarterly - load it into output dataframe.\n",
    "2. Plot the data on a histogram: year, half-year, quarter (3 plots).\n",
    "    - Beside all time plot, split the plots into ten-year periods (90s, 2000s, 2010s)\n",
    "3. Count some interesting metrics:\n",
    "    - Average and median price change in a year / half-year / quarter.\n",
    "    - ?"
   ]
  },
  {
   "cell_type": "code",
   "execution_count": 13,
   "metadata": {},
   "outputs": [
    {
     "name": "stdout",
     "output_type": "stream",
     "text": [
      "Empty DataFrame\n",
      "Columns: []\n",
      "Index: []\n"
     ]
    }
   ],
   "source": [
    "def loadPriceChangeData(gpw: list, nc: list) -> pd.DataFrame:\n",
    "    combinedList = gpw+nc\n",
    "    quarterlyPriceChangeData = pd.DataFrame([], columns=[\"YEAR\", \"QUARTER\", \"HALF-YEAR\", \"SYMBOL\", \"CLOSE\", \"OPEN\", \"HIGH\", \"LOW\", \"VOLUME\"])\n",
    "    return pd.DataFrame([])\n",
    "\n",
    "print(loadPriceChangeData(gpw, nc))"
   ]
  },
  {
   "cell_type": "code",
   "execution_count": null,
   "metadata": {},
   "outputs": [],
   "source": []
  }
 ],
 "metadata": {
  "kernelspec": {
   "display_name": "Python 3",
   "language": "python",
   "name": "python3"
  },
  "language_info": {
   "codemirror_mode": {
    "name": "ipython",
    "version": 3
   },
   "file_extension": ".py",
   "mimetype": "text/x-python",
   "name": "python",
   "nbconvert_exporter": "python",
   "pygments_lexer": "ipython3",
   "version": "3.8.1"
  }
 },
 "nbformat": 4,
 "nbformat_minor": 4
}
