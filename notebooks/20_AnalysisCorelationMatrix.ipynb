{
 "cells": [
  {
   "cell_type": "markdown",
   "metadata": {},
   "source": [
    "# Correlation Matrix "
   ]
  },
  {
   "cell_type": "code",
   "execution_count": 1,
   "metadata": {},
   "outputs": [],
   "source": [
    "import pandas as pd\n",
    "import glob"
   ]
  },
  {
   "cell_type": "markdown",
   "metadata": {},
   "source": [
    "### Get proper data files to pandas dataframe"
   ]
  },
  {
   "cell_type": "code",
   "execution_count": 2,
   "metadata": {},
   "outputs": [
    {
     "data": {
      "text/plain": [
       "140"
      ]
     },
     "execution_count": 2,
     "metadata": {},
     "output_type": "execute_result"
    }
   ],
   "source": [
    "wig20 = ['MBANK', 'SANPL.', 'CCC.', 'KGHM', 'LOTOS', 'LPP', 'CDPROJEKT', 'PEKAO',\n",
    "         'PGNIG', 'PKNORLEN', 'PKOBP', 'ORANGEPL', 'CYFRPLSAT', 'PGE.', 'PZU.',\n",
    "         'TAURONPE', 'JSW.', 'ALIOR', 'DINOPL', 'PLAY.']\n",
    "\n",
    "mwig40 = ['AMICA', 'AMREST', 'ASSECOPOL', 'BUDIMEX', 'CIECH', 'COMARCH', 'DOMDEV', 'ECHO',\n",
    "          'EUROCASH', 'FAMUR', 'FORTE', 'GETIN.', 'GTC', 'HANDLOWY', 'INGBSK', 'INTERCARS',\n",
    "          'KETY', 'DEVELIA', 'MILLENNIUM', 'STALPROD', 'NEUCA', 'VRG', 'KERNEL', 'GRUPAAZOTY',\n",
    "          'ENEA', 'BOGDANKA', 'ASSECOSEE', 'MABION', '11BIT', 'GPW', 'BENEFIT', 'KRUK',\n",
    "          'PKPCARGO', 'ENERGA', 'LIVECHAT', 'WIRTUALNA', 'BNPPPL', 'CLNPHARMA', 'PLAYWAY',\n",
    "          'TSGAMES']\n",
    "\n",
    "swig80 = ['ABPL', 'AGORA', 'AMBRA', 'APATOR', 'ASTARTA', 'ATMGRUPA', 'BIOTON', 'BORYSZEW', 'BOS.',\n",
    "          'COMP.', 'DEBICA', 'INSTALKRK', 'KOGENERA', 'KRUSZAWICA', 'LENTEX', 'MCI', 'MENNICA',\n",
    "          'NETIA', 'PEP.', 'POLICE.', 'POLIMEXMS', 'RAFAKO', 'SANOK', 'SNIEZKA', 'STALEXP', 'TIM',\n",
    "          'WAWEL', 'MANGATA', 'OPONEO.PL', 'RAINBOW', 'ASBIS', 'ASSECOBS', 'CIGAMES', 'WIELTON',\n",
    "          'TRAKCJA', 'UNIBEP', 'BAHOLDING', 'QUERCUS', 'PGSSOFT', 'MIRBUD', 'EKOEXPORT', 'ARCTIC',\n",
    "          'FERRO', 'SERINUS', 'VOTUM', 'IMCOMPANY', 'OVOSTAR', 'RYVU', 'ACAUTOGAZ', 'TOYA', \n",
    "          'VOXEL', 'MEDICALG', 'ELEMENTAL', 'DATAWALK', 'UNIMOT', 'ZEPAK', 'INTERAOLT', 'PHN',\n",
    "          'MLPGROUP', 'MERCATOR', 'NEWAG', 'CPGROUP', 'PCCROKITA', 'TORPOL', 'ALUMETAL', 'VIGOSYS',\n",
    "          'IDEABANK', 'ATAL', 'PEKABEX', 'PRAIRIE', 'ENTER', 'ARCHICOM', 'PBKM', 'AUTOPARTN', 'R22.',\n",
    "          'OAT', 'ULTGAMES', 'MLSYSTEM', 'BOOMBIT', 'SELVITA']\n",
    "\n",
    "combined = wig20 + mwig40 + swig80\n",
    "\n",
    "all_files = glob.glob(r\"..\\data\\*.mst\")\n",
    "found_files = []\n",
    "for path in all_files:\n",
    "    for symbol in combined:\n",
    "        if symbol in path and \"RCFL\" not in path and \"RCFS\" not in path and \"RCRKE\" not in path:\n",
    "            found_files.append(path)\n",
    "len(found_files)"
   ]
  },
  {
   "cell_type": "markdown",
   "metadata": {},
   "source": [
    "### Correlation matrix based on close prices"
   ]
  },
  {
   "cell_type": "code",
   "execution_count": 5,
   "metadata": {},
   "outputs": [
    {
     "name": "stdout",
     "output_type": "stream",
     "text": [
      "Failed for: BAHOLDING\n"
     ]
    },
    {
     "data": {
      "text/plain": [
       "11BIT        0.616730\n",
       "ABPL        -0.291703\n",
       "ACAUTOGAZ    0.086877\n",
       "AGORA       -0.542783\n",
       "ALIOR       -0.893889\n",
       "               ...   \n",
       "VRG         -0.671791\n",
       "WAWEL       -0.871037\n",
       "WIELTON     -0.837804\n",
       "WIRTUALNA    0.760187\n",
       "ZEPAK       -0.637174\n",
       "Name: CDPROJEKT, Length: 139, dtype: float64"
      ]
     },
     "execution_count": 5,
     "metadata": {},
     "output_type": "execute_result"
    }
   ],
   "source": [
    "close_pp_df = pd.DataFrame([])\n",
    "close_pp_df.index = pd.to_datetime(close_pp_df.index, format=\"%Y%m%d\")\n",
    "start_date = \"20180101\"\n",
    "output_file = \"corr_matrix_close.csv\"\n",
    "\n",
    "for path in found_files:\n",
    "    temp_df = pd.read_csv(path, index_col=1)\n",
    "    temp_df.index = pd.to_datetime(temp_df.index, format=\"%Y%m%d\")\n",
    "    temp_df = temp_df.loc[temp_df.index >= start_date]\n",
    "    temp_df[\"CLOSE_%\"] = temp_df[\"<CLOSE>\"] / temp_df[\"<CLOSE>\"].values[0]\n",
    "    try:\n",
    "        close_pp_df[temp_df[\"<TICKER>\"].values[0]] = temp_df[\"CLOSE_%\"]\n",
    "    except ValueError:\n",
    "        print(\"Failed for: \" + temp_df[\"<TICKER>\"].values[0])\n",
    "        continue\n",
    "correlation_matrix = close_pp_df.corr()\n",
    "correlation_matrix.to_csv(\"..\\\\output_data\\\\\"+output_file)\n",
    "correlation_matrix[\"CDPROJEKT\"]"
   ]
  },
  {
   "cell_type": "markdown",
   "metadata": {},
   "source": [
    "### Correlation matrix based on MA"
   ]
  },
  {
   "cell_type": "code",
   "execution_count": 4,
   "metadata": {},
   "outputs": [
    {
     "name": "stdout",
     "output_type": "stream",
     "text": [
      "Failed for: BAHOLDING\n"
     ]
    },
    {
     "data": {
      "text/plain": [
       "11BIT        0.630357\n",
       "ABPL        -0.345506\n",
       "ACAUTOGAZ    0.127672\n",
       "AGORA       -0.555741\n",
       "ALIOR       -0.905056\n",
       "               ...   \n",
       "VRG         -0.677008\n",
       "WAWEL       -0.885923\n",
       "WIELTON     -0.849645\n",
       "WIRTUALNA    0.781342\n",
       "ZEPAK       -0.666418\n",
       "Name: CDPROJEKT, Length: 139, dtype: float64"
      ]
     },
     "execution_count": 4,
     "metadata": {},
     "output_type": "execute_result"
    }
   ],
   "source": [
    "close_pp_df = pd.DataFrame([])\n",
    "close_pp_df.index = pd.to_datetime(close_pp_df.index, format=\"%Y%m%d\")\n",
    "start_date = \"20180101\"\n",
    "ma_period = 11\n",
    "output_file = \"corr_matrix_ma.csv\"\n",
    "\n",
    "for path in found_files:\n",
    "    temp_df = pd.read_csv(path, index_col=1)\n",
    "    temp_df.index = pd.to_datetime(temp_df.index, format=\"%Y%m%d\")\n",
    "    temp_df['MA'] = temp_df[\"<CLOSE>\"].rolling(11).mean();\n",
    "    temp_df = temp_df.loc[temp_df.index >= start_date]\n",
    "    temp_df[\"MA_%\"] = temp_df[\"MA\"] / temp_df[\"MA\"].values[0]\n",
    "    try:\n",
    "        close_pp_df[temp_df[\"<TICKER>\"].values[0]] = temp_df[\"MA_%\"]\n",
    "    except ValueError:\n",
    "        print(\"Failed for: \" + temp_df[\"<TICKER>\"].values[0])\n",
    "        continue\n",
    "correlation_matrix = close_pp_df.corr()\n",
    "correlation_matrix.to_csv(\"..\\\\output_data\\\\\"+output_file)\n",
    "correlation_matrix[\"CDPROJEKT\"]"
   ]
  },
  {
   "cell_type": "code",
   "execution_count": null,
   "metadata": {},
   "outputs": [],
   "source": []
  }
 ],
 "metadata": {
  "kernelspec": {
   "display_name": "Python 3",
   "language": "python",
   "name": "python3"
  },
  "language_info": {
   "codemirror_mode": {
    "name": "ipython",
    "version": 3
   },
   "file_extension": ".py",
   "mimetype": "text/x-python",
   "name": "python",
   "nbconvert_exporter": "python",
   "pygments_lexer": "ipython3",
   "version": "3.8.1"
  }
 },
 "nbformat": 4,
 "nbformat_minor": 4
}
