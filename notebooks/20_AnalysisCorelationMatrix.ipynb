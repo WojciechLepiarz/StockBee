{
 "cells": [
  {
   "cell_type": "markdown",
   "metadata": {},
   "source": [
    "# Correlation Matrix "
   ]
  },
  {
   "cell_type": "code",
   "execution_count": 2,
   "metadata": {},
   "outputs": [],
   "source": [
    "import pandas as pd\n",
    "import glob"
   ]
  },
  {
   "cell_type": "markdown",
   "metadata": {},
   "source": [
    "### Get proper data files to pandas dataframe"
   ]
  },
  {
   "cell_type": "code",
   "execution_count": 3,
   "metadata": {},
   "outputs": [
    {
     "data": {
      "text/plain": [
       "['..\\\\data\\\\11BIT.mst',\n",
       " '..\\\\data\\\\ABPL.mst',\n",
       " '..\\\\data\\\\ACAUTOGAZ.mst',\n",
       " '..\\\\data\\\\AGORA.mst',\n",
       " '..\\\\data\\\\ALIOR.mst',\n",
       " '..\\\\data\\\\ALUMETAL.mst',\n",
       " '..\\\\data\\\\AMBRA.mst',\n",
       " '..\\\\data\\\\AMICA.mst',\n",
       " '..\\\\data\\\\AMREST.mst',\n",
       " '..\\\\data\\\\APATOR.mst',\n",
       " '..\\\\data\\\\ARCHICOM.mst',\n",
       " '..\\\\data\\\\ARCTIC.mst',\n",
       " '..\\\\data\\\\ASBIS.mst',\n",
       " '..\\\\data\\\\ASSECOBS.mst',\n",
       " '..\\\\data\\\\ASSECOPOL.mst',\n",
       " '..\\\\data\\\\ASSECOSEE.mst',\n",
       " '..\\\\data\\\\ASTARTA.mst',\n",
       " '..\\\\data\\\\ATAL.mst',\n",
       " '..\\\\data\\\\ATMGRUPA.mst',\n",
       " '..\\\\data\\\\AUTOPARTN.mst',\n",
       " '..\\\\data\\\\BAHOLDING.mst',\n",
       " '..\\\\data\\\\BENEFIT.mst',\n",
       " '..\\\\data\\\\BIOTON.mst',\n",
       " '..\\\\data\\\\BNPPPL.mst',\n",
       " '..\\\\data\\\\BOGDANKA.mst',\n",
       " '..\\\\data\\\\BOOMBIT.mst',\n",
       " '..\\\\data\\\\BORYSZEW.mst',\n",
       " '..\\\\data\\\\BOS.mst',\n",
       " '..\\\\data\\\\BUDIMEX.mst',\n",
       " '..\\\\data\\\\CCC.mst',\n",
       " '..\\\\data\\\\CDPROJEKT.mst',\n",
       " '..\\\\data\\\\CIECH.mst',\n",
       " '..\\\\data\\\\CIGAMES.mst',\n",
       " '..\\\\data\\\\CLNPHARMA.mst',\n",
       " '..\\\\data\\\\COMARCH.mst',\n",
       " '..\\\\data\\\\COMP.mst',\n",
       " '..\\\\data\\\\CPGROUP.mst',\n",
       " '..\\\\data\\\\CYFRPLSAT.mst',\n",
       " '..\\\\data\\\\DATAWALK.mst',\n",
       " '..\\\\data\\\\DEBICA.mst',\n",
       " '..\\\\data\\\\DEVELIA.mst',\n",
       " '..\\\\data\\\\DINOPL.mst',\n",
       " '..\\\\data\\\\DOMDEV.mst',\n",
       " '..\\\\data\\\\ECHO.mst',\n",
       " '..\\\\data\\\\EKOEXPORT.mst',\n",
       " '..\\\\data\\\\ELEMENTAL.mst',\n",
       " '..\\\\data\\\\EMCINSMED.mst',\n",
       " '..\\\\data\\\\ENEA.mst',\n",
       " '..\\\\data\\\\ENERGA.mst',\n",
       " '..\\\\data\\\\ENTER.mst',\n",
       " '..\\\\data\\\\EUROCASH.mst',\n",
       " '..\\\\data\\\\FAMUR.mst',\n",
       " '..\\\\data\\\\FERRO.mst',\n",
       " '..\\\\data\\\\FORTE.mst',\n",
       " '..\\\\data\\\\GETIN.mst',\n",
       " '..\\\\data\\\\GPW.mst',\n",
       " '..\\\\data\\\\GRUPAAZOTY.mst',\n",
       " '..\\\\data\\\\GTC.mst',\n",
       " '..\\\\data\\\\HANDLOWY.mst',\n",
       " '..\\\\data\\\\IDEABANK.mst',\n",
       " '..\\\\data\\\\IMCOMPANY.mst',\n",
       " '..\\\\data\\\\INGBSK.mst',\n",
       " '..\\\\data\\\\INSTALKRK.mst',\n",
       " '..\\\\data\\\\INTERAOLT.mst',\n",
       " '..\\\\data\\\\INTERCARS.mst',\n",
       " '..\\\\data\\\\JSW.mst',\n",
       " '..\\\\data\\\\KERNEL.mst',\n",
       " '..\\\\data\\\\KETY.mst',\n",
       " '..\\\\data\\\\KGHM.mst',\n",
       " '..\\\\data\\\\KOGENERA.mst',\n",
       " '..\\\\data\\\\KRUK.mst',\n",
       " '..\\\\data\\\\LENTEX.mst',\n",
       " '..\\\\data\\\\LIVECHAT.mst',\n",
       " '..\\\\data\\\\LOTOS.mst',\n",
       " '..\\\\data\\\\LPP.mst',\n",
       " '..\\\\data\\\\MABION.mst',\n",
       " '..\\\\data\\\\MANGATA.mst',\n",
       " '..\\\\data\\\\MBANK.mst',\n",
       " '..\\\\data\\\\MCI.mst',\n",
       " '..\\\\data\\\\MEDICALG.mst',\n",
       " '..\\\\data\\\\MENNICA.mst',\n",
       " '..\\\\data\\\\MERCATOR.mst',\n",
       " '..\\\\data\\\\MILLENNIUM.mst',\n",
       " '..\\\\data\\\\MIRBUD.mst',\n",
       " '..\\\\data\\\\MLPGROUP.mst',\n",
       " '..\\\\data\\\\MLSYSTEM.mst',\n",
       " '..\\\\data\\\\NETIA.mst',\n",
       " '..\\\\data\\\\NEUCA.mst',\n",
       " '..\\\\data\\\\NEWAG.mst',\n",
       " '..\\\\data\\\\OAT.mst',\n",
       " '..\\\\data\\\\OPONEO.PL.mst',\n",
       " '..\\\\data\\\\ORANGEPL.mst',\n",
       " '..\\\\data\\\\OVOSTAR.mst',\n",
       " '..\\\\data\\\\PBKM.mst',\n",
       " '..\\\\data\\\\PCCROKITA.mst',\n",
       " '..\\\\data\\\\PEKABEX.mst',\n",
       " '..\\\\data\\\\PEKAO.mst',\n",
       " '..\\\\data\\\\PEP.mst',\n",
       " '..\\\\data\\\\PGE.mst',\n",
       " '..\\\\data\\\\PGNIG.mst',\n",
       " '..\\\\data\\\\PGSSOFT.mst',\n",
       " '..\\\\data\\\\PHN.mst',\n",
       " '..\\\\data\\\\PKNORLEN.mst',\n",
       " '..\\\\data\\\\PKOBP.mst',\n",
       " '..\\\\data\\\\PKPCARGO.mst',\n",
       " '..\\\\data\\\\PLAY.mst',\n",
       " '..\\\\data\\\\PLAYWAY.mst',\n",
       " '..\\\\data\\\\POLICE.mst',\n",
       " '..\\\\data\\\\POLIMEXMS.mst',\n",
       " '..\\\\data\\\\PRAIRIE.mst',\n",
       " '..\\\\data\\\\PZU.mst',\n",
       " '..\\\\data\\\\QUERCUS.mst',\n",
       " '..\\\\data\\\\R22.mst',\n",
       " '..\\\\data\\\\RAFAKO.mst',\n",
       " '..\\\\data\\\\RAINBOW.mst',\n",
       " '..\\\\data\\\\RYVU.mst',\n",
       " '..\\\\data\\\\SANOK.mst',\n",
       " '..\\\\data\\\\SANPL.mst',\n",
       " '..\\\\data\\\\SELVITA.mst',\n",
       " '..\\\\data\\\\SERINUS.mst',\n",
       " '..\\\\data\\\\SNIEZKA.mst',\n",
       " '..\\\\data\\\\STALEXP.mst',\n",
       " '..\\\\data\\\\STALPROD.mst',\n",
       " '..\\\\data\\\\TAURONPE.mst',\n",
       " '..\\\\data\\\\TIM.mst',\n",
       " '..\\\\data\\\\TORPOL.mst',\n",
       " '..\\\\data\\\\TOYA.mst',\n",
       " '..\\\\data\\\\TRAKCJA.mst',\n",
       " '..\\\\data\\\\TSGAMES.mst',\n",
       " '..\\\\data\\\\ULTGAMES.mst',\n",
       " '..\\\\data\\\\UNIBEP.mst',\n",
       " '..\\\\data\\\\UNIMOT.mst',\n",
       " '..\\\\data\\\\VIGOSYS.mst',\n",
       " '..\\\\data\\\\VOTUM.mst',\n",
       " '..\\\\data\\\\VOXEL.mst',\n",
       " '..\\\\data\\\\VRG.mst',\n",
       " '..\\\\data\\\\WAWEL.mst',\n",
       " '..\\\\data\\\\WIELTON.mst',\n",
       " '..\\\\data\\\\WIRTUALNA.mst',\n",
       " '..\\\\data\\\\ZEPAK.mst',\n",
       " '..\\\\data\\\\HURTIMEX.mst',\n",
       " '..\\\\data\\\\ICPGROUP.mst',\n",
       " '..\\\\data\\\\MENNICASK.mst']"
      ]
     },
     "execution_count": 3,
     "metadata": {},
     "output_type": "execute_result"
    }
   ],
   "source": [
    "wig20 = ['MBANK', 'SANPL.', 'CCC.', 'KGHM', 'LOTOS', 'LPP', 'CDPROJEKT', 'PEKAO',\n",
    "         'PGNIG', 'PKNORLEN', 'PKOBP', 'ORANGEPL', 'CYFRPLSAT', 'PGE.', 'PZU.',\n",
    "         'TAURONPE', 'JSW.', 'ALIOR', 'DINOPL', 'PLAY.']\n",
    "\n",
    "mwig40 = ['AMICA', 'AMREST', 'ASSECOPOL', 'BUDIMEX', 'CIECH', 'COMARCH', 'DOMDEV', 'ECHO',\n",
    "          'EUROCASH', 'FAMUR', 'FORTE', 'GETIN.', 'GTC', 'HANDLOWY', 'INGBSK', 'INTERCARS',\n",
    "          'KETY', 'DEVELIA', 'MILLENNIUM', 'STALPROD', 'NEUCA', 'VRG', 'KERNEL', 'GRUPAAZOTY',\n",
    "          'ENEA', 'BOGDANKA', 'ASSECOSEE', 'MABION', '11BIT', 'GPW', 'BENEFIT', 'KRUK',\n",
    "          'PKPCARGO', 'ENERGA', 'LIVECHAT', 'WIRTUALNA', 'BNPPPL', 'CLNPHARMA', 'PLAYWAY',\n",
    "          'TSGAMES']\n",
    "\n",
    "swig80 = ['ABPL', 'AGORA', 'AMBRA', 'APATOR', 'ASTARTA', 'ATMGRUPA', 'BIOTON', 'BORYSZEW', 'BOS.',\n",
    "          'COMP.', 'DEBICA', 'INSTALKRK', 'KOGENERA', 'KRUSZAWICA', 'LENTEX', 'MCI', 'MENNICA',\n",
    "          'NETIA', 'PEP.', 'POLICE.', 'POLIMEXMS', 'RAFAKO', 'SANOK', 'SNIEZKA', 'STALEXP', 'TIM',\n",
    "          'WAWEL', 'MANGATA', 'OPONEO.PL', 'RAINBOW', 'ASBIS', 'ASSECOBS', 'CIGAMES', 'WIELTON',\n",
    "          'TRAKCJA', 'UNIBEP', 'BAHOLDING', 'QUERCUS', 'PGSSOFT', 'MIRBUD', 'EKOEXPORT', 'ARCTIC',\n",
    "          'FERRO', 'SERINUS', 'VOTUM', 'IMCOMPANY', 'OVOSTAR', 'RYVU', 'ACAUTOGAZ', 'TOYA', \n",
    "          'VOXEL', 'MEDICALG', 'ELEMENTAL', 'DATAWALK', 'UNIMOT', 'ZEPAK', 'INTERAOLT', 'PHN',\n",
    "          'MLPGROUP', 'MERCATOR', 'NEWAG', 'CPGROUP', 'PCCROKITA', 'TORPOL', 'ALUMETAL', 'VIGOSYS',\n",
    "          'IDEABANK', 'ATAL', 'PEKABEX', 'PRAIRIE', 'ENTER', 'ARCHICOM', 'PBKM', 'AUTOPARTN', 'R22.',\n",
    "          'OAT', 'ULTGAMES', 'MLSYSTEM', 'BOOMBIT', 'SELVITA']\n",
    "\n",
    "combined = wig20 + mwig40 + swig80\n",
    "\n",
    "all_files = glob.glob(r\"..\\data\\*.mst\")\n",
    "found_files = []\n",
    "for path in all_files:\n",
    "    for symbol in combined:\n",
    "        if symbol in path and \"RCFL\" not in path and \"RCFS\" not in path and \"RCRKE\" not in path:\n",
    "            found_files.append(path)\n",
    "found_files"
   ]
  },
  {
   "cell_type": "markdown",
   "metadata": {},
   "source": [
    "### Correlation matrix based on close prices"
   ]
  },
  {
   "cell_type": "code",
   "execution_count": 5,
   "metadata": {},
   "outputs": [
    {
     "name": "stdout",
     "output_type": "stream",
     "text": [
      "Failed for: BAHOLDING\n"
     ]
    },
    {
     "data": {
      "text/plain": [
       "11BIT        0.616730\n",
       "ABPL        -0.291703\n",
       "ACAUTOGAZ    0.086877\n",
       "AGORA       -0.542783\n",
       "ALIOR       -0.893889\n",
       "               ...   \n",
       "VRG         -0.671791\n",
       "WAWEL       -0.871037\n",
       "WIELTON     -0.837804\n",
       "WIRTUALNA    0.760187\n",
       "ZEPAK       -0.637174\n",
       "Name: CDPROJEKT, Length: 139, dtype: float64"
      ]
     },
     "execution_count": 5,
     "metadata": {},
     "output_type": "execute_result"
    }
   ],
   "source": [
    "close_pp_df = pd.DataFrame([])\n",
    "close_pp_df.index = pd.to_datetime(close_pp_df.index, format=\"%Y%m%d\")\n",
    "start_date = \"20180101\"\n",
    "output_file = \"corr_matrix_close.csv\"\n",
    "\n",
    "for path in found_files:\n",
    "    temp_df = pd.read_csv(path, index_col=1)\n",
    "    temp_df.index = pd.to_datetime(temp_df.index, format=\"%Y%m%d\")\n",
    "    temp_df = temp_df.loc[temp_df.index >= start_date]\n",
    "    temp_df[\"CLOSE_%\"] = temp_df[\"<CLOSE>\"] / temp_df[\"<CLOSE>\"].values[0]\n",
    "    try:\n",
    "        close_pp_df[temp_df[\"<TICKER>\"].values[0]] = temp_df[\"CLOSE_%\"]\n",
    "    except ValueError:\n",
    "        print(\"Failed for: \" + temp_df[\"<TICKER>\"].values[0])\n",
    "        continue\n",
    "correlation_matrix = close_pp_df.corr()\n",
    "correlation_matrix.to_csv(\"..\\\\output_data\\\\\"+output_file)\n",
    "correlation_matrix[\"CDPROJEKT\"]"
   ]
  },
  {
   "cell_type": "markdown",
   "metadata": {},
   "source": [
    "### Correlation matrix based on MA"
   ]
  },
  {
   "cell_type": "code",
   "execution_count": 4,
   "metadata": {},
   "outputs": [
    {
     "name": "stdout",
     "output_type": "stream",
     "text": [
      "Failed for: BAHOLDING\n"
     ]
    },
    {
     "data": {
      "text/plain": [
       "11BIT        0.630357\n",
       "ABPL        -0.345506\n",
       "ACAUTOGAZ    0.127672\n",
       "AGORA       -0.555741\n",
       "ALIOR       -0.905056\n",
       "               ...   \n",
       "VRG         -0.677008\n",
       "WAWEL       -0.885923\n",
       "WIELTON     -0.849645\n",
       "WIRTUALNA    0.781342\n",
       "ZEPAK       -0.666418\n",
       "Name: CDPROJEKT, Length: 139, dtype: float64"
      ]
     },
     "execution_count": 4,
     "metadata": {},
     "output_type": "execute_result"
    }
   ],
   "source": [
    "close_pp_df = pd.DataFrame([])\n",
    "close_pp_df.index = pd.to_datetime(close_pp_df.index, format=\"%Y%m%d\")\n",
    "start_date = \"20180101\"\n",
    "ma_period = 11\n",
    "output_file = \"corr_matrix_ma.csv\"\n",
    "\n",
    "for path in found_files:\n",
    "    temp_df = pd.read_csv(path, index_col=1)\n",
    "    temp_df.index = pd.to_datetime(temp_df.index, format=\"%Y%m%d\")\n",
    "    temp_df['MA'] = temp_df[\"<CLOSE>\"].rolling(11).mean();\n",
    "    temp_df = temp_df.loc[temp_df.index >= start_date]\n",
    "    temp_df[\"MA_%\"] = temp_df[\"MA\"] / temp_df[\"MA\"].values[0]\n",
    "    try:\n",
    "        close_pp_df[temp_df[\"<TICKER>\"].values[0]] = temp_df[\"MA_%\"]\n",
    "    except ValueError:\n",
    "        print(\"Failed for: \" + temp_df[\"<TICKER>\"].values[0])\n",
    "        continue\n",
    "correlation_matrix = close_pp_df.corr()\n",
    "correlation_matrix.to_csv(\"..\\\\output_data\\\\\"+output_file)\n",
    "correlation_matrix[\"CDPROJEKT\"]"
   ]
  },
  {
   "cell_type": "code",
   "execution_count": null,
   "metadata": {},
   "outputs": [],
   "source": []
  }
 ],
 "metadata": {
  "kernelspec": {
   "display_name": "Python 3",
   "language": "python",
   "name": "python3"
  },
  "language_info": {
   "codemirror_mode": {
    "name": "ipython",
    "version": 3
   },
   "file_extension": ".py",
   "mimetype": "text/x-python",
   "name": "python",
   "nbconvert_exporter": "python",
   "pygments_lexer": "ipython3",
   "version": "3.8.1"
  }
 },
 "nbformat": 4,
 "nbformat_minor": 4
}
